{
 "cells": [
  {
   "cell_type": "code",
   "execution_count": null,
   "metadata": {},
   "outputs": [],
   "source": [
    "from fastrag.utilities.qdrant_database import QdrantDatabase"
   ]
  },
  {
   "cell_type": "code",
   "execution_count": null,
   "metadata": {},
   "outputs": [],
   "source": [
    "qdrant_database = QdrantDatabase()"
   ]
  },
  {
   "cell_type": "code",
   "execution_count": null,
   "metadata": {},
   "outputs": [],
   "source": [
    "collection_name = \"qna_collection\"\n",
    "# qdrant_database.delete_collection(collection_name)\n",
    "qdrant_database.create_collection(collection_name)"
   ]
  },
  {
   "cell_type": "code",
   "execution_count": null,
   "metadata": {},
   "outputs": [],
   "source": [
    "qdrant_database.load_recent_responses(collection_name=collection_name, limit=10)"
   ]
  },
  {
   "cell_type": "code",
   "execution_count": null,
   "metadata": {},
   "outputs": [],
   "source": [
    "# qdrant_database.add_response(collection_name, \"what are you doing?\", \"I am studying\")\n",
    "qdrant_database.add_response(collection_name, \"tell me about Nepal\", \"It is a beautiful country.\")"
   ]
  },
  {
   "cell_type": "code",
   "execution_count": null,
   "metadata": {},
   "outputs": [],
   "source": [
    "import os\n",
    "from qdrant_client import QdrantClient, models\n",
    "\n",
    "qdrant_url = os.getenv(\"QDRANT_URL\", \"http://0.0.0.0:6333\")\n",
    "\n",
    "qdrant_client = QdrantClient(url=qdrant_url)\n",
    "\n"
   ]
  },
  {
   "cell_type": "code",
   "execution_count": null,
   "metadata": {},
   "outputs": [],
   "source": [
    "import time\n",
    "\n",
    "payload = {\n",
    "    \"user\": \"who are you?\",\n",
    "    \"assistant\": \"I am somebody\",\n",
    "    \"timestamp\": int(time.time())\n",
    "}\n",
    "\n",
    "payload.__str__()\n"
   ]
  },
  {
   "cell_type": "code",
   "execution_count": null,
   "metadata": {},
   "outputs": [],
   "source": [
    "import uuid\n",
    "\n",
    "def create_uuid(text: str = None) -> str:\n",
    "    import hashlib\n",
    "    hash_bytes = hashlib.sha256(text.encode('utf-8')).digest()\n",
    "    return str(uuid.UUID(bytes=hash_bytes[:16]))\n",
    "\n",
    "create_uuid(payload.__str__())"
   ]
  },
  {
   "cell_type": "code",
   "execution_count": null,
   "metadata": {},
   "outputs": [],
   "source": [
    "point_data = models.PointStruct(id=payload['timestamp'], vector=[0], payload=payload)\n",
    "point_data"
   ]
  },
  {
   "cell_type": "code",
   "execution_count": null,
   "metadata": {},
   "outputs": [],
   "source": [
    "qdrant_client.upsert(\n",
    "    collection_name=collection_name,\n",
    "    points=[point_data]\n",
    ")"
   ]
  },
  {
   "cell_type": "code",
   "execution_count": null,
   "metadata": {},
   "outputs": [],
   "source": [
    "search_results[0]"
   ]
  },
  {
   "cell_type": "code",
   "execution_count": null,
   "metadata": {},
   "outputs": [],
   "source": [
    "search_results = qdrant_client.scroll(collection_name=collection_name, with_payload=True)\n",
    "search_results\n",
    "# sorted_responses = sorted(\n",
    "#     [result.payload for result in search_results[0]],\n",
    "#     key = lambda x: x[\"timestamp\"],\n",
    "#     reverse=True\n",
    "# )\n",
    "\n",
    "# # return_value = [response[\"text\"] for response in sorted_responses[:10]]\n",
    "# return_value"
   ]
  },
  {
   "cell_type": "code",
   "execution_count": null,
   "metadata": {},
   "outputs": [],
   "source": [
    "search_results[0]"
   ]
  }
 ],
 "metadata": {
  "kernelspec": {
   "display_name": "fastrag-env",
   "language": "python",
   "name": "python3"
  },
  "language_info": {
   "codemirror_mode": {
    "name": "ipython",
    "version": 3
   },
   "file_extension": ".py",
   "mimetype": "text/x-python",
   "name": "python",
   "nbconvert_exporter": "python",
   "pygments_lexer": "ipython3",
   "version": "3.9.20"
  }
 },
 "nbformat": 4,
 "nbformat_minor": 2
}
