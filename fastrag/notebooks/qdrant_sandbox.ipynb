{
 "cells": [
  {
   "cell_type": "code",
   "execution_count": null,
   "metadata": {},
   "outputs": [],
   "source": [
    "from fastrag.utilities.qdrant_database import QdrantDatabase"
   ]
  },
  {
   "cell_type": "code",
   "execution_count": null,
   "metadata": {},
   "outputs": [],
   "source": [
    "from qdrant_client import QdrantClient, models\n",
    "\n",
    "qdrant_database = QdrantDatabase(qdrant_url=\"http://0.0.0.0:6643\")\n"
   ]
  },
  {
   "cell_type": "code",
   "execution_count": null,
   "metadata": {},
   "outputs": [],
   "source": [
    "collection_name = \"qna_collection\"\n",
    "# qdrant_database.delete_collection(collection_name)\n",
    "qdrant_database.create_collection(collection_name)"
   ]
  },
  {
   "cell_type": "code",
   "execution_count": null,
   "metadata": {},
   "outputs": [],
   "source": [
    "qdrant_database.load_recent_responses(collection_name=collection_name, limit=10)"
   ]
  },
  {
   "cell_type": "code",
   "execution_count": null,
   "metadata": {},
   "outputs": [],
   "source": [
    "# qdrant_database.add_response(collection_name, \"what are you doing?\", \"I am studying\")\n",
    "qdrant_database.add_response(collection_name, \"tell me about Nepal\", \"It is a beautiful country.\")"
   ]
  },
  {
   "cell_type": "code",
   "execution_count": null,
   "metadata": {},
   "outputs": [],
   "source": [
    "import os\n",
    "from qdrant_client import QdrantClient, models\n",
    "\n",
    "qdrant_url = os.getenv(\"QDRANT_URL\", \"http://0.0.0.0:6333\")\n",
    "\n",
    "qdrant_client = QdrantClient(url=qdrant_url)\n",
    "\n"
   ]
  },
  {
   "cell_type": "code",
   "execution_count": null,
   "metadata": {},
   "outputs": [],
   "source": [
    "import time\n",
    "\n",
    "payload = {\n",
    "    \"user\": \"who are you?\",\n",
    "    \"assistant\": \"I am somebody\",\n",
    "    \"timestamp\": int(time.time())\n",
    "}\n",
    "\n",
    "payload.__str__()\n"
   ]
  },
  {
   "cell_type": "code",
   "execution_count": null,
   "metadata": {},
   "outputs": [],
   "source": [
    "import uuid\n",
    "\n",
    "def create_uuid(text: str = None) -> str:\n",
    "    import hashlib\n",
    "    hash_bytes = hashlib.sha256(text.encode('utf-8')).digest()\n",
    "    return str(uuid.UUID(bytes=hash_bytes[:16]))\n",
    "\n",
    "create_uuid(payload.__str__())"
   ]
  },
  {
   "cell_type": "code",
   "execution_count": null,
   "metadata": {},
   "outputs": [],
   "source": [
    "point_data = models.PointStruct(id=payload['timestamp'], vector=[0], payload=payload)\n",
    "point_data"
   ]
  },
  {
   "cell_type": "code",
   "execution_count": null,
   "metadata": {},
   "outputs": [],
   "source": [
    "qdrant_client.upsert(\n",
    "    collection_name=collection_name,\n",
    "    points=[point_data]\n",
    ")"
   ]
  },
  {
   "cell_type": "code",
   "execution_count": null,
   "metadata": {},
   "outputs": [],
   "source": [
    "search_results[0]"
   ]
  },
  {
   "cell_type": "code",
   "execution_count": null,
   "metadata": {},
   "outputs": [],
   "source": [
    "search_results = qdrant_client.scroll(collection_name=collection_name, with_payload=True)\n",
    "search_results\n",
    "# sorted_responses = sorted(\n",
    "#     [result.payload for result in search_results[0]],\n",
    "#     key = lambda x: x[\"timestamp\"],\n",
    "#     reverse=True\n",
    "# )\n",
    "\n",
    "# # return_value = [response[\"text\"] for response in sorted_responses[:10]]\n",
    "# return_value"
   ]
  },
  {
   "cell_type": "code",
   "execution_count": null,
   "metadata": {},
   "outputs": [],
   "source": [
    "import requests\n",
    "def add_conversation_history(query, response_text, collection_name:str=\"qna_collection\"):\n",
    "    try:\n",
    "        url = os.getenv(\"CONVERSATION_HISTORY_URL\", \"http://localhost:8089/conversation-history\")\n",
    "        payload = {\n",
    "            \"collection_name\": collection_name,\n",
    "            \"query\": query,\n",
    "            \"response_text\": response_text\n",
    "        }\n",
    "        response = requests.post(url, json=payload)\n",
    "        print(response.json())\n",
    "        \n",
    "    except Exception as err:\n",
    "        print(f\"Failed to add to conversation history: {err}\")\n",
    "        return []    \n",
    "    \n",
    "add_conversation_history(\"are you working?\", \"Lets sleep now\")"
   ]
  },
  {
   "cell_type": "code",
   "execution_count": null,
   "metadata": {},
   "outputs": [],
   "source": [
    "def get_conversation_history(collection_name: str=\"qna_collection\", limit: int=10):\n",
    "    try:\n",
    "        url = os.getenv(\"CONVERSATION_HISTORY_URL\", \"http://localhost:8089/conversation-history\")\n",
    "        payload = {\n",
    "            \"collection_name\": collection_name,\n",
    "            \"limit\": limit\n",
    "        }\n",
    "        response = requests.get(url, params=payload)\n",
    "        conversation_history = response.json()[\"response\"]\n",
    "\n",
    "        chat_history = []\n",
    "        for record in conversation_history:\n",
    "            chat_history += [[record['user'], record['system']]]\n",
    "        return chat_history\n",
    "    except Exception as err:\n",
    "        print(f\"Error in accessing conversation history from database: {err}\")\n",
    "        return []\n",
    "get_conversation_history()"
   ]
  },
  {
   "cell_type": "code",
   "execution_count": null,
   "metadata": {},
   "outputs": [],
   "source": [
    "import requests\n",
    "import os\n",
    "\n",
    "url = os.getenv(\"CONVERSATION_HISTORY_URL\", \"http://localhost:8089/conversation-history\")\n",
    "payload = {\n",
    "    \"collection_name\": \"qna_collection\",\n",
    "    \"limit\": 10\n",
    "}\n",
    "response = requests.get(url, params=payload)\n",
    "print(response.json())\n",
    "conversation_history = response.json()[\"response\"]"
   ]
  }
 ],
 "metadata": {
  "kernelspec": {
   "display_name": "fastrag-env",
   "language": "python",
   "name": "python3"
  },
  "language_info": {
   "codemirror_mode": {
    "name": "ipython",
    "version": 3
   },
   "file_extension": ".py",
   "mimetype": "text/x-python",
   "name": "python",
   "nbconvert_exporter": "python",
   "pygments_lexer": "ipython3",
   "version": "3.9.20"
  }
 },
 "nbformat": 4,
 "nbformat_minor": 2
}
